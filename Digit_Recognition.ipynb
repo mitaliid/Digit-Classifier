{
  "nbformat": 4,
  "nbformat_minor": 0,
  "metadata": {
    "colab": {
      "provenance": [],
      "authorship_tag": "ABX9TyP4e5joCL+puzDZzWmTt/KK",
      "include_colab_link": true
    },
    "kernelspec": {
      "name": "python3",
      "display_name": "Python 3"
    },
    "language_info": {
      "name": "python"
    }
  },
  "cells": [
    {
      "cell_type": "markdown",
      "metadata": {
        "id": "view-in-github",
        "colab_type": "text"
      },
      "source": [
        "<a href=\"https://colab.research.google.com/github/mitaliid/Digit-Classifier/blob/main/Digit_Recognition.ipynb\" target=\"_parent\"><img src=\"https://colab.research.google.com/assets/colab-badge.svg\" alt=\"Open In Colab\"/></a>"
      ]
    },
    {
      "cell_type": "code",
      "source": [
        "!pip install torch torchvision matplotlib"
      ],
      "metadata": {
        "colab": {
          "base_uri": "https://localhost:8080/"
        },
        "id": "Sm5aXoOJufPc",
        "outputId": "5da4501e-f182-49b7-b1de-fae1bb4c9e04"
      },
      "execution_count": 13,
      "outputs": [
        {
          "output_type": "stream",
          "name": "stdout",
          "text": [
            "Requirement already satisfied: torch in /usr/local/lib/python3.10/dist-packages (2.4.1+cu121)\n",
            "Requirement already satisfied: torchvision in /usr/local/lib/python3.10/dist-packages (0.19.1+cu121)\n",
            "Requirement already satisfied: matplotlib in /usr/local/lib/python3.10/dist-packages (3.7.1)\n",
            "Requirement already satisfied: filelock in /usr/local/lib/python3.10/dist-packages (from torch) (3.16.1)\n",
            "Requirement already satisfied: typing-extensions>=4.8.0 in /usr/local/lib/python3.10/dist-packages (from torch) (4.12.2)\n",
            "Requirement already satisfied: sympy in /usr/local/lib/python3.10/dist-packages (from torch) (1.13.3)\n",
            "Requirement already satisfied: networkx in /usr/local/lib/python3.10/dist-packages (from torch) (3.4.1)\n",
            "Requirement already satisfied: jinja2 in /usr/local/lib/python3.10/dist-packages (from torch) (3.1.4)\n",
            "Requirement already satisfied: fsspec in /usr/local/lib/python3.10/dist-packages (from torch) (2024.6.1)\n",
            "Requirement already satisfied: numpy in /usr/local/lib/python3.10/dist-packages (from torchvision) (1.26.4)\n",
            "Requirement already satisfied: pillow!=8.3.*,>=5.3.0 in /usr/local/lib/python3.10/dist-packages (from torchvision) (10.4.0)\n",
            "Requirement already satisfied: contourpy>=1.0.1 in /usr/local/lib/python3.10/dist-packages (from matplotlib) (1.3.0)\n",
            "Requirement already satisfied: cycler>=0.10 in /usr/local/lib/python3.10/dist-packages (from matplotlib) (0.12.1)\n",
            "Requirement already satisfied: fonttools>=4.22.0 in /usr/local/lib/python3.10/dist-packages (from matplotlib) (4.54.1)\n",
            "Requirement already satisfied: kiwisolver>=1.0.1 in /usr/local/lib/python3.10/dist-packages (from matplotlib) (1.4.7)\n",
            "Requirement already satisfied: packaging>=20.0 in /usr/local/lib/python3.10/dist-packages (from matplotlib) (24.1)\n",
            "Requirement already satisfied: pyparsing>=2.3.1 in /usr/local/lib/python3.10/dist-packages (from matplotlib) (3.2.0)\n",
            "Requirement already satisfied: python-dateutil>=2.7 in /usr/local/lib/python3.10/dist-packages (from matplotlib) (2.8.2)\n",
            "Requirement already satisfied: six>=1.5 in /usr/local/lib/python3.10/dist-packages (from python-dateutil>=2.7->matplotlib) (1.16.0)\n",
            "Requirement already satisfied: MarkupSafe>=2.0 in /usr/local/lib/python3.10/dist-packages (from jinja2->torch) (3.0.1)\n",
            "Requirement already satisfied: mpmath<1.4,>=1.1.0 in /usr/local/lib/python3.10/dist-packages (from sympy->torch) (1.3.0)\n"
          ]
        }
      ]
    },
    {
      "cell_type": "code",
      "source": [
        "from torchvision import datasets\n",
        "from torchvision.transforms import ToTensor"
      ],
      "metadata": {
        "id": "mXWXN4D4qlHZ"
      },
      "execution_count": 14,
      "outputs": []
    },
    {
      "cell_type": "code",
      "source": [
        "train_data = datasets.MNIST(\n",
        "    root = 'data',\n",
        "    train = True,\n",
        "    download = True,\n",
        "    transform = ToTensor(),\n",
        ")\n",
        "\n",
        "test_data = datasets.MNIST(\n",
        "    root = 'data',\n",
        "    train = False,\n",
        "    download = True,\n",
        "    transform = ToTensor(),\n",
        ")"
      ],
      "metadata": {
        "colab": {
          "base_uri": "https://localhost:8080/"
        },
        "id": "tDP_ChHn0bt7",
        "outputId": "b1c14da4-b63c-4721-d46b-f134c54b74c4"
      },
      "execution_count": 15,
      "outputs": [
        {
          "output_type": "stream",
          "name": "stdout",
          "text": [
            "Downloading http://yann.lecun.com/exdb/mnist/train-images-idx3-ubyte.gz\n",
            "Failed to download (trying next):\n",
            "<urlopen error [SSL: CERTIFICATE_VERIFY_FAILED] certificate verify failed: certificate has expired (_ssl.c:1007)>\n",
            "\n",
            "Downloading https://ossci-datasets.s3.amazonaws.com/mnist/train-images-idx3-ubyte.gz\n",
            "Downloading https://ossci-datasets.s3.amazonaws.com/mnist/train-images-idx3-ubyte.gz to data/MNIST/raw/train-images-idx3-ubyte.gz\n"
          ]
        },
        {
          "output_type": "stream",
          "name": "stderr",
          "text": [
            "100%|██████████| 9912422/9912422 [00:00<00:00, 10980567.37it/s]\n"
          ]
        },
        {
          "output_type": "stream",
          "name": "stdout",
          "text": [
            "Extracting data/MNIST/raw/train-images-idx3-ubyte.gz to data/MNIST/raw\n",
            "\n",
            "Downloading http://yann.lecun.com/exdb/mnist/train-labels-idx1-ubyte.gz\n",
            "Failed to download (trying next):\n",
            "<urlopen error [SSL: CERTIFICATE_VERIFY_FAILED] certificate verify failed: certificate has expired (_ssl.c:1007)>\n",
            "\n",
            "Downloading https://ossci-datasets.s3.amazonaws.com/mnist/train-labels-idx1-ubyte.gz\n",
            "Downloading https://ossci-datasets.s3.amazonaws.com/mnist/train-labels-idx1-ubyte.gz to data/MNIST/raw/train-labels-idx1-ubyte.gz\n"
          ]
        },
        {
          "output_type": "stream",
          "name": "stderr",
          "text": [
            "100%|██████████| 28881/28881 [00:00<00:00, 4633226.00it/s]\n"
          ]
        },
        {
          "output_type": "stream",
          "name": "stdout",
          "text": [
            "Extracting data/MNIST/raw/train-labels-idx1-ubyte.gz to data/MNIST/raw\n",
            "\n",
            "Downloading http://yann.lecun.com/exdb/mnist/t10k-images-idx3-ubyte.gz\n",
            "Failed to download (trying next):\n",
            "<urlopen error [SSL: CERTIFICATE_VERIFY_FAILED] certificate verify failed: certificate has expired (_ssl.c:1007)>\n",
            "\n",
            "Downloading https://ossci-datasets.s3.amazonaws.com/mnist/t10k-images-idx3-ubyte.gz\n",
            "Downloading https://ossci-datasets.s3.amazonaws.com/mnist/t10k-images-idx3-ubyte.gz to data/MNIST/raw/t10k-images-idx3-ubyte.gz\n"
          ]
        },
        {
          "output_type": "stream",
          "name": "stderr",
          "text": [
            "100%|██████████| 1648877/1648877 [00:00<00:00, 14836956.95it/s]\n"
          ]
        },
        {
          "output_type": "stream",
          "name": "stdout",
          "text": [
            "Extracting data/MNIST/raw/t10k-images-idx3-ubyte.gz to data/MNIST/raw\n",
            "\n",
            "Downloading http://yann.lecun.com/exdb/mnist/t10k-labels-idx1-ubyte.gz\n",
            "Failed to download (trying next):\n",
            "<urlopen error [SSL: CERTIFICATE_VERIFY_FAILED] certificate verify failed: certificate has expired (_ssl.c:1007)>\n",
            "\n",
            "Downloading https://ossci-datasets.s3.amazonaws.com/mnist/t10k-labels-idx1-ubyte.gz\n",
            "Downloading https://ossci-datasets.s3.amazonaws.com/mnist/t10k-labels-idx1-ubyte.gz to data/MNIST/raw/t10k-labels-idx1-ubyte.gz\n"
          ]
        },
        {
          "output_type": "stream",
          "name": "stderr",
          "text": [
            "100%|██████████| 4542/4542 [00:00<00:00, 3801741.92it/s]"
          ]
        },
        {
          "output_type": "stream",
          "name": "stdout",
          "text": [
            "Extracting data/MNIST/raw/t10k-labels-idx1-ubyte.gz to data/MNIST/raw\n",
            "\n"
          ]
        },
        {
          "output_type": "stream",
          "name": "stderr",
          "text": [
            "\n"
          ]
        }
      ]
    },
    {
      "cell_type": "code",
      "source": [
        "train_data.data.shape"
      ],
      "metadata": {
        "colab": {
          "base_uri": "https://localhost:8080/"
        },
        "id": "rTmcSYtI1MKY",
        "outputId": "3583f31c-a010-4658-9d59-92426819fcc0"
      },
      "execution_count": 16,
      "outputs": [
        {
          "output_type": "execute_result",
          "data": {
            "text/plain": [
              "torch.Size([60000, 28, 28])"
            ]
          },
          "metadata": {},
          "execution_count": 16
        }
      ]
    },
    {
      "cell_type": "code",
      "source": [
        "test_data.data.shape"
      ],
      "metadata": {
        "colab": {
          "base_uri": "https://localhost:8080/"
        },
        "id": "w8tKGGD21S8F",
        "outputId": "8dba77cb-528e-49bb-d303-2f3f73986c19"
      },
      "execution_count": 17,
      "outputs": [
        {
          "output_type": "execute_result",
          "data": {
            "text/plain": [
              "torch.Size([10000, 28, 28])"
            ]
          },
          "metadata": {},
          "execution_count": 17
        }
      ]
    },
    {
      "cell_type": "code",
      "source": [
        "train_data.targets.size()"
      ],
      "metadata": {
        "colab": {
          "base_uri": "https://localhost:8080/"
        },
        "id": "Mk9pGXDz1oLO",
        "outputId": "86f21b18-416d-4f96-a38a-0939fbd6a3b7"
      },
      "execution_count": 18,
      "outputs": [
        {
          "output_type": "execute_result",
          "data": {
            "text/plain": [
              "torch.Size([60000])"
            ]
          },
          "metadata": {},
          "execution_count": 18
        }
      ]
    },
    {
      "cell_type": "code",
      "source": [
        "train_data.targets"
      ],
      "metadata": {
        "colab": {
          "base_uri": "https://localhost:8080/"
        },
        "id": "SXFEdEKy1x5b",
        "outputId": "9bfc4100-bb1c-43db-f166-52e34ee5359b"
      },
      "execution_count": 19,
      "outputs": [
        {
          "output_type": "execute_result",
          "data": {
            "text/plain": [
              "tensor([5, 0, 4,  ..., 5, 6, 8])"
            ]
          },
          "metadata": {},
          "execution_count": 19
        }
      ]
    },
    {
      "cell_type": "code",
      "source": [
        "from torch.utils.data import DataLoader\n",
        "\n",
        "loaders = {\n",
        "    'train' : DataLoader(train_data,\n",
        "                         batch_size = 100,\n",
        "                         shuffle = True,\n",
        "                         num_workers = 1),\n",
        "    'test' : DataLoader(test_data,\n",
        "                        batch_size = 100,\n",
        "                        shuffle = True,\n",
        "                        num_workers = 1),\n",
        "}"
      ],
      "metadata": {
        "id": "3JdoQIxj2A6y"
      },
      "execution_count": 20,
      "outputs": []
    },
    {
      "cell_type": "code",
      "source": [
        "loaders"
      ],
      "metadata": {
        "colab": {
          "base_uri": "https://localhost:8080/"
        },
        "id": "WYph_RX12dYN",
        "outputId": "fed68fa3-d206-4a5f-fd04-d4bfa3a47943"
      },
      "execution_count": 14,
      "outputs": [
        {
          "output_type": "execute_result",
          "data": {
            "text/plain": [
              "{'train': <torch.utils.data.dataloader.DataLoader at 0x7de659336ce0>,\n",
              " 'test': <torch.utils.data.dataloader.DataLoader at 0x7de659336bc0>}"
            ]
          },
          "metadata": {},
          "execution_count": 14
        }
      ]
    },
    {
      "cell_type": "code",
      "source": [
        "import torch.nn as nn\n",
        "import torch.nn.functional as F\n",
        "import torch.optim as optim\n",
        "from torch.utils.data import DataLoader\n",
        "\n",
        "\n",
        "class CNN(nn.Module):\n",
        "  def __init__(self):\n",
        "    super(CNN, self).__init__()\n",
        "\n",
        "    self.conv1 = nn.Conv2d(1, 10, kernel_size = 5)\n",
        "    self.conv2 = nn.Conv2d(10, 20, kernel_size = 5)\n",
        "    self.conv2_drop = nn.Dropout2d()\n",
        "    self.fc1 = nn.Linear(320, 50)\n",
        "    self.fc2 = nn.Linear(50, 10)\n",
        "\n",
        "  def forward(self, x):\n",
        "    x = F.relu(F.max_pool2d(self.conv1(x), 2))\n",
        "    x = F.relu(F.max_pool2d(self.conv2_drop(self.conv2(x)), 2))\n",
        "    x = x.view(-1, 320)\n",
        "    x = F.relu(self.fc1(x))\n",
        "    x = F.dropout(x, training = self.training)\n",
        "    x = self.fc2(x)\n",
        "\n",
        "    return F.softmax(x)"
      ],
      "metadata": {
        "id": "mmCfVgejW5j7"
      },
      "execution_count": 21,
      "outputs": []
    },
    {
      "cell_type": "code",
      "source": [
        "import torch\n",
        "\n",
        "device = torch.device(\"cuda\" if torch.cuda.is_available() else \"cpu\")\n",
        "model = CNN().to(device)\n",
        "optimizer = optim.Adam(model.parameters(), lr = 0.001)\n",
        "loss_fn = nn.CrossEntropyLoss()\n",
        "\n",
        "def train(epoch):\n",
        "  model.train()\n",
        "  for batch_idx, (data, target) in enumerate(loaders['train']):\n",
        "    data, target = data.to(device), target.to(device)\n",
        "    optimizer.zero_grad()\n",
        "    output = model(data)\n",
        "    loss = loss_fn(output, target)\n",
        "    loss.backward()\n",
        "    optimizer.step()\n",
        "    if batch_idx % 20 == 0:\n",
        "      print(f'Train Epoch: {epoch} [{batch_idx * len(data)}/{len(loaders[\"train\"].dataset)} ({100. * batch_idx / len(loaders[\"train\"]):.0}%)]\\t {loss.item():.6f}')\n",
        "\n",
        "\n",
        "\n",
        "def test():\n",
        "  model.eval()\n",
        "\n",
        "  test_loss = 0\n",
        "  correct = 0\n",
        "\n",
        "  with torch.no_grad():\n",
        "    for data, target in loaders['test']:\n",
        "      data, target = data.to(device), target.to(device)\n",
        "      output = model(data)\n",
        "      test_loss += loss_fn(output, target).item()\n",
        "      pred = output.argmax(dim = 1, keepdim = True)\n",
        "      correct += pred.eq(target.view_as(pred)).sum().item()\n",
        "\n",
        "  test_loss /= len(loaders['test'].dataset)\n",
        "  print(f'\\n Test set: Averge loss: {test_loss:.4f}, Accuracy {correct}/{len(loaders[\"test\"].dataset)} ({100. * correct / len(loaders[\"test\"].dataset):.0f}%\\n)')\n"
      ],
      "metadata": {
        "id": "nr0TKbXMY_40"
      },
      "execution_count": 22,
      "outputs": []
    },
    {
      "cell_type": "code",
      "source": [
        "for epoch in range(1, 11):\n",
        "  train(epoch)\n",
        "  test()"
      ],
      "metadata": {
        "colab": {
          "base_uri": "https://localhost:8080/"
        },
        "id": "ifACYpjLWDpN",
        "outputId": "74c00a57-b77b-4280-9949-211eb3bb6eae"
      },
      "execution_count": 23,
      "outputs": [
        {
          "output_type": "stream",
          "name": "stderr",
          "text": [
            "<ipython-input-21-daae86d532f9>:25: UserWarning: Implicit dimension choice for softmax has been deprecated. Change the call to include dim=X as an argument.\n",
            "  return F.softmax(x)\n"
          ]
        },
        {
          "output_type": "stream",
          "name": "stdout",
          "text": [
            "Train Epoch: 1 [0/60000 (0e+00%)]\t 2.301445\n",
            "Train Epoch: 1 [2000/60000 (3e+00%)]\t 2.291764\n",
            "Train Epoch: 1 [4000/60000 (7e+00%)]\t 2.235420\n",
            "Train Epoch: 1 [6000/60000 (1e+01%)]\t 2.047650\n",
            "Train Epoch: 1 [8000/60000 (1e+01%)]\t 1.953828\n",
            "Train Epoch: 1 [10000/60000 (2e+01%)]\t 1.827724\n",
            "Train Epoch: 1 [12000/60000 (2e+01%)]\t 1.772790\n",
            "Train Epoch: 1 [14000/60000 (2e+01%)]\t 1.707783\n",
            "Train Epoch: 1 [16000/60000 (3e+01%)]\t 1.735098\n",
            "Train Epoch: 1 [18000/60000 (3e+01%)]\t 1.726111\n",
            "Train Epoch: 1 [20000/60000 (3e+01%)]\t 1.749770\n",
            "Train Epoch: 1 [22000/60000 (4e+01%)]\t 1.639606\n",
            "Train Epoch: 1 [24000/60000 (4e+01%)]\t 1.673066\n",
            "Train Epoch: 1 [26000/60000 (4e+01%)]\t 1.671836\n",
            "Train Epoch: 1 [28000/60000 (5e+01%)]\t 1.686828\n",
            "Train Epoch: 1 [30000/60000 (5e+01%)]\t 1.613318\n",
            "Train Epoch: 1 [32000/60000 (5e+01%)]\t 1.593116\n",
            "Train Epoch: 1 [34000/60000 (6e+01%)]\t 1.641677\n",
            "Train Epoch: 1 [36000/60000 (6e+01%)]\t 1.596206\n",
            "Train Epoch: 1 [38000/60000 (6e+01%)]\t 1.590430\n",
            "Train Epoch: 1 [40000/60000 (7e+01%)]\t 1.584481\n",
            "Train Epoch: 1 [42000/60000 (7e+01%)]\t 1.644369\n",
            "Train Epoch: 1 [44000/60000 (7e+01%)]\t 1.583847\n",
            "Train Epoch: 1 [46000/60000 (8e+01%)]\t 1.571975\n",
            "Train Epoch: 1 [48000/60000 (8e+01%)]\t 1.653098\n",
            "Train Epoch: 1 [50000/60000 (8e+01%)]\t 1.577851\n",
            "Train Epoch: 1 [52000/60000 (9e+01%)]\t 1.586611\n",
            "Train Epoch: 1 [54000/60000 (9e+01%)]\t 1.625580\n",
            "Train Epoch: 1 [56000/60000 (9e+01%)]\t 1.571697\n",
            "Train Epoch: 1 [58000/60000 (1e+02%)]\t 1.620284\n",
            "\n",
            " Test set: Averge loss: 0.0153, Accuracy 9374/10000 (94%\n",
            ")\n",
            "Train Epoch: 2 [0/60000 (0e+00%)]\t 1.585304\n",
            "Train Epoch: 2 [2000/60000 (3e+00%)]\t 1.608969\n",
            "Train Epoch: 2 [4000/60000 (7e+00%)]\t 1.596071\n",
            "Train Epoch: 2 [6000/60000 (1e+01%)]\t 1.550665\n",
            "Train Epoch: 2 [8000/60000 (1e+01%)]\t 1.623330\n",
            "Train Epoch: 2 [10000/60000 (2e+01%)]\t 1.589385\n",
            "Train Epoch: 2 [12000/60000 (2e+01%)]\t 1.545156\n",
            "Train Epoch: 2 [14000/60000 (2e+01%)]\t 1.553877\n",
            "Train Epoch: 2 [16000/60000 (3e+01%)]\t 1.632887\n",
            "Train Epoch: 2 [18000/60000 (3e+01%)]\t 1.595646\n",
            "Train Epoch: 2 [20000/60000 (3e+01%)]\t 1.586106\n",
            "Train Epoch: 2 [22000/60000 (4e+01%)]\t 1.584070\n",
            "Train Epoch: 2 [24000/60000 (4e+01%)]\t 1.555335\n",
            "Train Epoch: 2 [26000/60000 (4e+01%)]\t 1.527956\n",
            "Train Epoch: 2 [28000/60000 (5e+01%)]\t 1.581858\n",
            "Train Epoch: 2 [30000/60000 (5e+01%)]\t 1.579579\n",
            "Train Epoch: 2 [32000/60000 (5e+01%)]\t 1.527084\n",
            "Train Epoch: 2 [34000/60000 (6e+01%)]\t 1.627242\n",
            "Train Epoch: 2 [36000/60000 (6e+01%)]\t 1.553567\n",
            "Train Epoch: 2 [38000/60000 (6e+01%)]\t 1.580853\n",
            "Train Epoch: 2 [40000/60000 (7e+01%)]\t 1.582066\n",
            "Train Epoch: 2 [42000/60000 (7e+01%)]\t 1.587935\n",
            "Train Epoch: 2 [44000/60000 (7e+01%)]\t 1.576078\n",
            "Train Epoch: 2 [46000/60000 (8e+01%)]\t 1.581095\n",
            "Train Epoch: 2 [48000/60000 (8e+01%)]\t 1.559137\n",
            "Train Epoch: 2 [50000/60000 (8e+01%)]\t 1.581406\n",
            "Train Epoch: 2 [52000/60000 (9e+01%)]\t 1.530054\n",
            "Train Epoch: 2 [54000/60000 (9e+01%)]\t 1.563309\n",
            "Train Epoch: 2 [56000/60000 (9e+01%)]\t 1.572322\n",
            "Train Epoch: 2 [58000/60000 (1e+02%)]\t 1.592991\n",
            "\n",
            " Test set: Averge loss: 0.0151, Accuracy 9521/10000 (95%\n",
            ")\n",
            "Train Epoch: 3 [0/60000 (0e+00%)]\t 1.542910\n",
            "Train Epoch: 3 [2000/60000 (3e+00%)]\t 1.563651\n",
            "Train Epoch: 3 [4000/60000 (7e+00%)]\t 1.563377\n",
            "Train Epoch: 3 [6000/60000 (1e+01%)]\t 1.562324\n",
            "Train Epoch: 3 [8000/60000 (1e+01%)]\t 1.562037\n",
            "Train Epoch: 3 [10000/60000 (2e+01%)]\t 1.544569\n",
            "Train Epoch: 3 [12000/60000 (2e+01%)]\t 1.547467\n",
            "Train Epoch: 3 [14000/60000 (2e+01%)]\t 1.523386\n",
            "Train Epoch: 3 [16000/60000 (3e+01%)]\t 1.573599\n",
            "Train Epoch: 3 [18000/60000 (3e+01%)]\t 1.541158\n",
            "Train Epoch: 3 [20000/60000 (3e+01%)]\t 1.546674\n",
            "Train Epoch: 3 [22000/60000 (4e+01%)]\t 1.559725\n",
            "Train Epoch: 3 [24000/60000 (4e+01%)]\t 1.588983\n",
            "Train Epoch: 3 [26000/60000 (4e+01%)]\t 1.618639\n",
            "Train Epoch: 3 [28000/60000 (5e+01%)]\t 1.551104\n",
            "Train Epoch: 3 [30000/60000 (5e+01%)]\t 1.552100\n",
            "Train Epoch: 3 [32000/60000 (5e+01%)]\t 1.533630\n",
            "Train Epoch: 3 [34000/60000 (6e+01%)]\t 1.553356\n",
            "Train Epoch: 3 [36000/60000 (6e+01%)]\t 1.547700\n",
            "Train Epoch: 3 [38000/60000 (6e+01%)]\t 1.557038\n",
            "Train Epoch: 3 [40000/60000 (7e+01%)]\t 1.541474\n",
            "Train Epoch: 3 [42000/60000 (7e+01%)]\t 1.586767\n",
            "Train Epoch: 3 [44000/60000 (7e+01%)]\t 1.525836\n",
            "Train Epoch: 3 [46000/60000 (8e+01%)]\t 1.558830\n",
            "Train Epoch: 3 [48000/60000 (8e+01%)]\t 1.582196\n",
            "Train Epoch: 3 [50000/60000 (8e+01%)]\t 1.536671\n",
            "Train Epoch: 3 [52000/60000 (9e+01%)]\t 1.571734\n",
            "Train Epoch: 3 [54000/60000 (9e+01%)]\t 1.556040\n",
            "Train Epoch: 3 [56000/60000 (9e+01%)]\t 1.522559\n",
            "Train Epoch: 3 [58000/60000 (1e+02%)]\t 1.561368\n",
            "\n",
            " Test set: Averge loss: 0.0150, Accuracy 9586/10000 (96%\n",
            ")\n",
            "Train Epoch: 4 [0/60000 (0e+00%)]\t 1.516291\n",
            "Train Epoch: 4 [2000/60000 (3e+00%)]\t 1.579269\n",
            "Train Epoch: 4 [4000/60000 (7e+00%)]\t 1.574209\n",
            "Train Epoch: 4 [6000/60000 (1e+01%)]\t 1.580367\n",
            "Train Epoch: 4 [8000/60000 (1e+01%)]\t 1.534118\n",
            "Train Epoch: 4 [10000/60000 (2e+01%)]\t 1.542477\n",
            "Train Epoch: 4 [12000/60000 (2e+01%)]\t 1.518970\n",
            "Train Epoch: 4 [14000/60000 (2e+01%)]\t 1.578639\n",
            "Train Epoch: 4 [16000/60000 (3e+01%)]\t 1.557845\n",
            "Train Epoch: 4 [18000/60000 (3e+01%)]\t 1.569595\n",
            "Train Epoch: 4 [20000/60000 (3e+01%)]\t 1.561654\n",
            "Train Epoch: 4 [22000/60000 (4e+01%)]\t 1.570110\n",
            "Train Epoch: 4 [24000/60000 (4e+01%)]\t 1.604788\n",
            "Train Epoch: 4 [26000/60000 (4e+01%)]\t 1.579513\n",
            "Train Epoch: 4 [28000/60000 (5e+01%)]\t 1.560851\n",
            "Train Epoch: 4 [30000/60000 (5e+01%)]\t 1.568186\n",
            "Train Epoch: 4 [32000/60000 (5e+01%)]\t 1.547637\n",
            "Train Epoch: 4 [34000/60000 (6e+01%)]\t 1.577584\n",
            "Train Epoch: 4 [36000/60000 (6e+01%)]\t 1.516562\n",
            "Train Epoch: 4 [38000/60000 (6e+01%)]\t 1.510831\n",
            "Train Epoch: 4 [40000/60000 (7e+01%)]\t 1.528000\n",
            "Train Epoch: 4 [42000/60000 (7e+01%)]\t 1.595088\n",
            "Train Epoch: 4 [44000/60000 (7e+01%)]\t 1.560830\n",
            "Train Epoch: 4 [46000/60000 (8e+01%)]\t 1.603426\n",
            "Train Epoch: 4 [48000/60000 (8e+01%)]\t 1.564613\n",
            "Train Epoch: 4 [50000/60000 (8e+01%)]\t 1.536293\n",
            "Train Epoch: 4 [52000/60000 (9e+01%)]\t 1.538243\n",
            "Train Epoch: 4 [54000/60000 (9e+01%)]\t 1.551516\n",
            "Train Epoch: 4 [56000/60000 (9e+01%)]\t 1.512270\n",
            "Train Epoch: 4 [58000/60000 (1e+02%)]\t 1.548212\n",
            "\n",
            " Test set: Averge loss: 0.0150, Accuracy 9649/10000 (96%\n",
            ")\n",
            "Train Epoch: 5 [0/60000 (0e+00%)]\t 1.505691\n",
            "Train Epoch: 5 [2000/60000 (3e+00%)]\t 1.499276\n",
            "Train Epoch: 5 [4000/60000 (7e+00%)]\t 1.548058\n",
            "Train Epoch: 5 [6000/60000 (1e+01%)]\t 1.523288\n",
            "Train Epoch: 5 [8000/60000 (1e+01%)]\t 1.515621\n",
            "Train Epoch: 5 [10000/60000 (2e+01%)]\t 1.560177\n",
            "Train Epoch: 5 [12000/60000 (2e+01%)]\t 1.563252\n",
            "Train Epoch: 5 [14000/60000 (2e+01%)]\t 1.547918\n",
            "Train Epoch: 5 [16000/60000 (3e+01%)]\t 1.566201\n",
            "Train Epoch: 5 [18000/60000 (3e+01%)]\t 1.549649\n",
            "Train Epoch: 5 [20000/60000 (3e+01%)]\t 1.514474\n",
            "Train Epoch: 5 [22000/60000 (4e+01%)]\t 1.505813\n",
            "Train Epoch: 5 [24000/60000 (4e+01%)]\t 1.568338\n",
            "Train Epoch: 5 [26000/60000 (4e+01%)]\t 1.544124\n",
            "Train Epoch: 5 [28000/60000 (5e+01%)]\t 1.538377\n",
            "Train Epoch: 5 [30000/60000 (5e+01%)]\t 1.523242\n",
            "Train Epoch: 5 [32000/60000 (5e+01%)]\t 1.540594\n",
            "Train Epoch: 5 [34000/60000 (6e+01%)]\t 1.609661\n",
            "Train Epoch: 5 [36000/60000 (6e+01%)]\t 1.542848\n",
            "Train Epoch: 5 [38000/60000 (6e+01%)]\t 1.525627\n",
            "Train Epoch: 5 [40000/60000 (7e+01%)]\t 1.549673\n",
            "Train Epoch: 5 [42000/60000 (7e+01%)]\t 1.558289\n",
            "Train Epoch: 5 [44000/60000 (7e+01%)]\t 1.568685\n",
            "Train Epoch: 5 [46000/60000 (8e+01%)]\t 1.560479\n",
            "Train Epoch: 5 [48000/60000 (8e+01%)]\t 1.522875\n",
            "Train Epoch: 5 [50000/60000 (8e+01%)]\t 1.554323\n",
            "Train Epoch: 5 [52000/60000 (9e+01%)]\t 1.535488\n",
            "Train Epoch: 5 [54000/60000 (9e+01%)]\t 1.532137\n",
            "Train Epoch: 5 [56000/60000 (9e+01%)]\t 1.576402\n",
            "Train Epoch: 5 [58000/60000 (1e+02%)]\t 1.527963\n",
            "\n",
            " Test set: Averge loss: 0.0150, Accuracy 9651/10000 (97%\n",
            ")\n",
            "Train Epoch: 6 [0/60000 (0e+00%)]\t 1.531406\n",
            "Train Epoch: 6 [2000/60000 (3e+00%)]\t 1.505975\n",
            "Train Epoch: 6 [4000/60000 (7e+00%)]\t 1.536108\n",
            "Train Epoch: 6 [6000/60000 (1e+01%)]\t 1.563598\n",
            "Train Epoch: 6 [8000/60000 (1e+01%)]\t 1.530270\n",
            "Train Epoch: 6 [10000/60000 (2e+01%)]\t 1.519917\n",
            "Train Epoch: 6 [12000/60000 (2e+01%)]\t 1.540779\n",
            "Train Epoch: 6 [14000/60000 (2e+01%)]\t 1.509472\n",
            "Train Epoch: 6 [16000/60000 (3e+01%)]\t 1.512919\n",
            "Train Epoch: 6 [18000/60000 (3e+01%)]\t 1.559331\n",
            "Train Epoch: 6 [20000/60000 (3e+01%)]\t 1.531113\n",
            "Train Epoch: 6 [22000/60000 (4e+01%)]\t 1.510431\n",
            "Train Epoch: 6 [24000/60000 (4e+01%)]\t 1.575961\n",
            "Train Epoch: 6 [26000/60000 (4e+01%)]\t 1.570566\n",
            "Train Epoch: 6 [28000/60000 (5e+01%)]\t 1.524189\n",
            "Train Epoch: 6 [30000/60000 (5e+01%)]\t 1.622608\n",
            "Train Epoch: 6 [32000/60000 (5e+01%)]\t 1.528988\n",
            "Train Epoch: 6 [34000/60000 (6e+01%)]\t 1.555444\n",
            "Train Epoch: 6 [36000/60000 (6e+01%)]\t 1.562975\n",
            "Train Epoch: 6 [38000/60000 (6e+01%)]\t 1.560227\n",
            "Train Epoch: 6 [40000/60000 (7e+01%)]\t 1.559655\n",
            "Train Epoch: 6 [42000/60000 (7e+01%)]\t 1.535443\n",
            "Train Epoch: 6 [44000/60000 (7e+01%)]\t 1.538313\n",
            "Train Epoch: 6 [46000/60000 (8e+01%)]\t 1.552534\n",
            "Train Epoch: 6 [48000/60000 (8e+01%)]\t 1.552927\n",
            "Train Epoch: 6 [50000/60000 (8e+01%)]\t 1.549308\n",
            "Train Epoch: 6 [52000/60000 (9e+01%)]\t 1.550645\n",
            "Train Epoch: 6 [54000/60000 (9e+01%)]\t 1.557898\n",
            "Train Epoch: 6 [56000/60000 (9e+01%)]\t 1.583679\n",
            "Train Epoch: 6 [58000/60000 (1e+02%)]\t 1.508798\n",
            "\n",
            " Test set: Averge loss: 0.0149, Accuracy 9686/10000 (97%\n",
            ")\n",
            "Train Epoch: 7 [0/60000 (0e+00%)]\t 1.543455\n",
            "Train Epoch: 7 [2000/60000 (3e+00%)]\t 1.534177\n",
            "Train Epoch: 7 [4000/60000 (7e+00%)]\t 1.549185\n",
            "Train Epoch: 7 [6000/60000 (1e+01%)]\t 1.522970\n",
            "Train Epoch: 7 [8000/60000 (1e+01%)]\t 1.583680\n",
            "Train Epoch: 7 [10000/60000 (2e+01%)]\t 1.560635\n",
            "Train Epoch: 7 [12000/60000 (2e+01%)]\t 1.487225\n",
            "Train Epoch: 7 [14000/60000 (2e+01%)]\t 1.513007\n",
            "Train Epoch: 7 [16000/60000 (3e+01%)]\t 1.553455\n",
            "Train Epoch: 7 [18000/60000 (3e+01%)]\t 1.544138\n",
            "Train Epoch: 7 [20000/60000 (3e+01%)]\t 1.522437\n",
            "Train Epoch: 7 [22000/60000 (4e+01%)]\t 1.538745\n",
            "Train Epoch: 7 [24000/60000 (4e+01%)]\t 1.524653\n",
            "Train Epoch: 7 [26000/60000 (4e+01%)]\t 1.559984\n",
            "Train Epoch: 7 [28000/60000 (5e+01%)]\t 1.528040\n",
            "Train Epoch: 7 [30000/60000 (5e+01%)]\t 1.546940\n",
            "Train Epoch: 7 [32000/60000 (5e+01%)]\t 1.564410\n",
            "Train Epoch: 7 [34000/60000 (6e+01%)]\t 1.536294\n",
            "Train Epoch: 7 [36000/60000 (6e+01%)]\t 1.589817\n",
            "Train Epoch: 7 [38000/60000 (6e+01%)]\t 1.528124\n",
            "Train Epoch: 7 [40000/60000 (7e+01%)]\t 1.537586\n",
            "Train Epoch: 7 [42000/60000 (7e+01%)]\t 1.551409\n",
            "Train Epoch: 7 [44000/60000 (7e+01%)]\t 1.526301\n",
            "Train Epoch: 7 [46000/60000 (8e+01%)]\t 1.524483\n",
            "Train Epoch: 7 [48000/60000 (8e+01%)]\t 1.512143\n",
            "Train Epoch: 7 [50000/60000 (8e+01%)]\t 1.501294\n",
            "Train Epoch: 7 [52000/60000 (9e+01%)]\t 1.579596\n",
            "Train Epoch: 7 [54000/60000 (9e+01%)]\t 1.534482\n",
            "Train Epoch: 7 [56000/60000 (9e+01%)]\t 1.511120\n",
            "Train Epoch: 7 [58000/60000 (1e+02%)]\t 1.531262\n",
            "\n",
            " Test set: Averge loss: 0.0149, Accuracy 9694/10000 (97%\n",
            ")\n",
            "Train Epoch: 8 [0/60000 (0e+00%)]\t 1.548654\n",
            "Train Epoch: 8 [2000/60000 (3e+00%)]\t 1.537015\n",
            "Train Epoch: 8 [4000/60000 (7e+00%)]\t 1.524911\n",
            "Train Epoch: 8 [6000/60000 (1e+01%)]\t 1.517825\n",
            "Train Epoch: 8 [8000/60000 (1e+01%)]\t 1.531897\n",
            "Train Epoch: 8 [10000/60000 (2e+01%)]\t 1.525732\n",
            "Train Epoch: 8 [12000/60000 (2e+01%)]\t 1.528174\n",
            "Train Epoch: 8 [14000/60000 (2e+01%)]\t 1.543005\n",
            "Train Epoch: 8 [16000/60000 (3e+01%)]\t 1.518646\n",
            "Train Epoch: 8 [18000/60000 (3e+01%)]\t 1.565930\n",
            "Train Epoch: 8 [20000/60000 (3e+01%)]\t 1.559431\n",
            "Train Epoch: 8 [22000/60000 (4e+01%)]\t 1.537367\n",
            "Train Epoch: 8 [24000/60000 (4e+01%)]\t 1.576003\n",
            "Train Epoch: 8 [26000/60000 (4e+01%)]\t 1.524804\n",
            "Train Epoch: 8 [28000/60000 (5e+01%)]\t 1.540389\n",
            "Train Epoch: 8 [30000/60000 (5e+01%)]\t 1.514439\n",
            "Train Epoch: 8 [32000/60000 (5e+01%)]\t 1.499132\n",
            "Train Epoch: 8 [34000/60000 (6e+01%)]\t 1.596085\n",
            "Train Epoch: 8 [36000/60000 (6e+01%)]\t 1.509194\n",
            "Train Epoch: 8 [38000/60000 (6e+01%)]\t 1.529232\n",
            "Train Epoch: 8 [40000/60000 (7e+01%)]\t 1.580791\n",
            "Train Epoch: 8 [42000/60000 (7e+01%)]\t 1.549763\n",
            "Train Epoch: 8 [44000/60000 (7e+01%)]\t 1.574375\n",
            "Train Epoch: 8 [46000/60000 (8e+01%)]\t 1.529468\n",
            "Train Epoch: 8 [48000/60000 (8e+01%)]\t 1.496867\n",
            "Train Epoch: 8 [50000/60000 (8e+01%)]\t 1.536341\n",
            "Train Epoch: 8 [52000/60000 (9e+01%)]\t 1.511551\n",
            "Train Epoch: 8 [54000/60000 (9e+01%)]\t 1.521332\n",
            "Train Epoch: 8 [56000/60000 (9e+01%)]\t 1.462627\n",
            "Train Epoch: 8 [58000/60000 (1e+02%)]\t 1.549100\n",
            "\n",
            " Test set: Averge loss: 0.0149, Accuracy 9707/10000 (97%\n",
            ")\n",
            "Train Epoch: 9 [0/60000 (0e+00%)]\t 1.516975\n",
            "Train Epoch: 9 [2000/60000 (3e+00%)]\t 1.534010\n",
            "Train Epoch: 9 [4000/60000 (7e+00%)]\t 1.572379\n",
            "Train Epoch: 9 [6000/60000 (1e+01%)]\t 1.554451\n",
            "Train Epoch: 9 [8000/60000 (1e+01%)]\t 1.541260\n",
            "Train Epoch: 9 [10000/60000 (2e+01%)]\t 1.522842\n",
            "Train Epoch: 9 [12000/60000 (2e+01%)]\t 1.525424\n",
            "Train Epoch: 9 [14000/60000 (2e+01%)]\t 1.496510\n",
            "Train Epoch: 9 [16000/60000 (3e+01%)]\t 1.485054\n",
            "Train Epoch: 9 [18000/60000 (3e+01%)]\t 1.527438\n",
            "Train Epoch: 9 [20000/60000 (3e+01%)]\t 1.551004\n",
            "Train Epoch: 9 [22000/60000 (4e+01%)]\t 1.570345\n",
            "Train Epoch: 9 [24000/60000 (4e+01%)]\t 1.518982\n",
            "Train Epoch: 9 [26000/60000 (4e+01%)]\t 1.545159\n",
            "Train Epoch: 9 [28000/60000 (5e+01%)]\t 1.524337\n",
            "Train Epoch: 9 [30000/60000 (5e+01%)]\t 1.558914\n",
            "Train Epoch: 9 [32000/60000 (5e+01%)]\t 1.561387\n",
            "Train Epoch: 9 [34000/60000 (6e+01%)]\t 1.499568\n",
            "Train Epoch: 9 [36000/60000 (6e+01%)]\t 1.522240\n",
            "Train Epoch: 9 [38000/60000 (6e+01%)]\t 1.574546\n",
            "Train Epoch: 9 [40000/60000 (7e+01%)]\t 1.519489\n",
            "Train Epoch: 9 [42000/60000 (7e+01%)]\t 1.528428\n",
            "Train Epoch: 9 [44000/60000 (7e+01%)]\t 1.483528\n",
            "Train Epoch: 9 [46000/60000 (8e+01%)]\t 1.542827\n",
            "Train Epoch: 9 [48000/60000 (8e+01%)]\t 1.517087\n",
            "Train Epoch: 9 [50000/60000 (8e+01%)]\t 1.486557\n",
            "Train Epoch: 9 [52000/60000 (9e+01%)]\t 1.496074\n",
            "Train Epoch: 9 [54000/60000 (9e+01%)]\t 1.520641\n",
            "Train Epoch: 9 [56000/60000 (9e+01%)]\t 1.529982\n",
            "Train Epoch: 9 [58000/60000 (1e+02%)]\t 1.532392\n",
            "\n",
            " Test set: Averge loss: 0.0149, Accuracy 9722/10000 (97%\n",
            ")\n",
            "Train Epoch: 10 [0/60000 (0e+00%)]\t 1.493352\n",
            "Train Epoch: 10 [2000/60000 (3e+00%)]\t 1.514405\n",
            "Train Epoch: 10 [4000/60000 (7e+00%)]\t 1.554552\n",
            "Train Epoch: 10 [6000/60000 (1e+01%)]\t 1.529085\n",
            "Train Epoch: 10 [8000/60000 (1e+01%)]\t 1.508893\n",
            "Train Epoch: 10 [10000/60000 (2e+01%)]\t 1.505905\n",
            "Train Epoch: 10 [12000/60000 (2e+01%)]\t 1.554173\n",
            "Train Epoch: 10 [14000/60000 (2e+01%)]\t 1.497331\n",
            "Train Epoch: 10 [16000/60000 (3e+01%)]\t 1.536687\n",
            "Train Epoch: 10 [18000/60000 (3e+01%)]\t 1.529179\n",
            "Train Epoch: 10 [20000/60000 (3e+01%)]\t 1.570263\n",
            "Train Epoch: 10 [22000/60000 (4e+01%)]\t 1.494926\n",
            "Train Epoch: 10 [24000/60000 (4e+01%)]\t 1.522203\n",
            "Train Epoch: 10 [26000/60000 (4e+01%)]\t 1.537614\n",
            "Train Epoch: 10 [28000/60000 (5e+01%)]\t 1.546932\n",
            "Train Epoch: 10 [30000/60000 (5e+01%)]\t 1.507807\n",
            "Train Epoch: 10 [32000/60000 (5e+01%)]\t 1.513404\n",
            "Train Epoch: 10 [34000/60000 (6e+01%)]\t 1.514440\n",
            "Train Epoch: 10 [36000/60000 (6e+01%)]\t 1.510804\n",
            "Train Epoch: 10 [38000/60000 (6e+01%)]\t 1.517728\n",
            "Train Epoch: 10 [40000/60000 (7e+01%)]\t 1.489023\n",
            "Train Epoch: 10 [42000/60000 (7e+01%)]\t 1.497368\n",
            "Train Epoch: 10 [44000/60000 (7e+01%)]\t 1.519009\n",
            "Train Epoch: 10 [46000/60000 (8e+01%)]\t 1.536003\n",
            "Train Epoch: 10 [48000/60000 (8e+01%)]\t 1.527245\n",
            "Train Epoch: 10 [50000/60000 (8e+01%)]\t 1.561513\n",
            "Train Epoch: 10 [52000/60000 (9e+01%)]\t 1.515235\n",
            "Train Epoch: 10 [54000/60000 (9e+01%)]\t 1.531834\n",
            "Train Epoch: 10 [56000/60000 (9e+01%)]\t 1.514155\n",
            "Train Epoch: 10 [58000/60000 (1e+02%)]\t 1.523594\n",
            "\n",
            " Test set: Averge loss: 0.0149, Accuracy 9737/10000 (97%\n",
            ")\n"
          ]
        }
      ]
    },
    {
      "cell_type": "code",
      "source": [
        "device"
      ],
      "metadata": {
        "colab": {
          "base_uri": "https://localhost:8080/"
        },
        "id": "KI9oL-ArZwD-",
        "outputId": "3cf04c58-efed-44ba-aa4f-59a9db9f4576"
      },
      "execution_count": 24,
      "outputs": [
        {
          "output_type": "execute_result",
          "data": {
            "text/plain": [
              "device(type='cpu')"
            ]
          },
          "metadata": {},
          "execution_count": 24
        }
      ]
    },
    {
      "cell_type": "code",
      "source": [
        "import matplotlib.pyplot as plt\n",
        "\n",
        "model.eval()\n",
        "\n",
        "data, target = test_data[9]\n",
        "data = data.unsqueeze(0).to(device)\n",
        "output = model(data)\n",
        "prediction = output.argmax(dim = 1, keepdim = True).item()\n",
        "\n",
        "print(f'Prediction: {prediction}')\n",
        "\n",
        "image = data.squeeze(0).squeeze(0).cpu().numpy()\n",
        "plt.imshow(image, cmap = 'gray')\n",
        "plt.show()\n"
      ],
      "metadata": {
        "colab": {
          "base_uri": "https://localhost:8080/",
          "height": 484
        },
        "id": "biyMf7s0Z00D",
        "outputId": "f6a5f927-aa9e-461a-c634-75ab0655ffeb"
      },
      "execution_count": 36,
      "outputs": [
        {
          "output_type": "stream",
          "name": "stderr",
          "text": [
            "<ipython-input-21-daae86d532f9>:25: UserWarning: Implicit dimension choice for softmax has been deprecated. Change the call to include dim=X as an argument.\n",
            "  return F.softmax(x)\n"
          ]
        },
        {
          "output_type": "stream",
          "name": "stdout",
          "text": [
            "Prediction: 9\n"
          ]
        },
        {
          "output_type": "display_data",
          "data": {
            "text/plain": [
              "<Figure size 640x480 with 1 Axes>"
            ],
            "image/png": "[encoded data removed]"
          },
          "metadata": {}
        }
      ]
    }
  ]
}